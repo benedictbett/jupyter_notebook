{
 "cells": [
  {
   "cell_type": "markdown",
   "metadata": {},
   "source": [
    "<center>\n",
    "    <img src=\"https://cf-courses-data.s3.us.cloud-object-storage.appdomain.cloud/IBMDeveloperSkillsNetwork-DS0105EN-SkillsNetwork/labs/Module2/images/SN_web_lightmode.png\" width=\"300\" alt=\"cognitiveclass.ai logo\">\n",
    "</center>\n"
   ]
  },
  {
   "cell_type": "markdown",
   "metadata": {},
   "source": [
    "#### Add your code below following the instructions given in the course\n"
   ]
  },
  {
   "cell_type": "markdown",
   "metadata": {},
   "source": [
    "# Final Project:Data Science Tools And Arithmetic Expressions "
   ]
  },
  {
   "cell_type": "markdown",
   "metadata": {},
   "source": [
    "__Introduction__:\n",
    "This notebook provides an overview of various data science tools and libraries used in the industry, as well as examples of arithmetic expressions commonly used in data analysis."
   ]
  },
  {
   "cell_type": "markdown",
   "metadata": {},
   "source": [
    "## Data science Langueges,\n",
    "1.Python\n",
    "2.R\n",
    "3.SQL\n",
    "4.Julia"
   ]
  },
  {
   "cell_type": "markdown",
   "metadata": {},
   "source": [
    "## Data Science Libraries,\n",
    "1.Pandas\n",
    "2.Numpy\n",
    "3.Matplotlib\n",
    "4.Scikit-learn\n",
    "5.TensorFlow"
   ]
  },
  {
   "cell_type": "markdown",
   "metadata": {},
   "source": [
    "|Tools||Description|\n",
    "|-:||-:| \n",
    "|Jupyter||Web-based interactive computational environment| \n",
    "|Tableau||Data visualization tool| \n",
    "|Power BI||Business analytics service provided by Microsoft| \n",
    "|Apache Spark||Open-source distributed computing system|\n",
    "|Hadoop||Distributed computing framework for processing large datasets| \n",
    "\n"
   ]
  },
  {
   "cell_type": "markdown",
   "metadata": {},
   "source": [
    "## Arithmetic Expressions,\n",
    "This notebook includes some examples of arithmetic expressions. These expressions involve adding, subtracting, multiplying, and dividing numbers."
   ]
  },
  {
   "cell_type": "code",
   "execution_count": 1,
   "metadata": {},
   "outputs": [
    {
     "name": "stdout",
     "output_type": "stream",
     "text": [
      "The product of 5 and 10 is 50\n",
      "The sum of 5 and 10 is 15\n"
     ]
    }
   ],
   "source": [
    "\n",
    "a = 5\n",
    "b = 10\n",
    "c = a * b\n",
    "d = a + b\n",
    "print(\"The product of {} and {} is {}\".format(a, b, c))\n",
    "print(\"The sum of {} and {} is {}\".format(a, b, d))\n"
   ]
  },
  {
   "cell_type": "code",
   "execution_count": 2,
   "metadata": {},
   "outputs": [
    {
     "name": "stdout",
     "output_type": "stream",
     "text": [
      "120 minutes is equal to 2.0 hours\n"
     ]
    }
   ],
   "source": [
    "\n",
    "minutes = 120\n",
    "hours = minutes / 60\n",
    "print(\"{} minutes is equal to {} hours\".format(minutes, hours))\n"
   ]
  },
  {
   "cell_type": "markdown",
   "metadata": {},
   "source": [
    "## Objectives,\n",
    "1.Understand the importance of data science languages, libraries, and tools.\n",
    "2.Learn how to use basic arithmetic expressions.\n",
    "3.Explore some popular data science tools and their uses."
   ]
  },
  {
   "cell_type": "markdown",
   "metadata": {},
   "source": [
    "## Author\n",
    "This notebook was created by [Benedict Bett]"
   ]
  },
  {
   "cell_type": "code",
   "execution_count": null,
   "metadata": {},
   "outputs": [],
   "source": []
  }
 ],
 "metadata": {
  "kernelspec": {
   "display_name": "Python",
   "language": "python",
   "name": "conda-env-python-py"
  },
  "language_info": {
   "codemirror_mode": {
    "name": "ipython",
    "version": 3
   },
   "file_extension": ".py",
   "mimetype": "text/x-python",
   "name": "python",
   "nbconvert_exporter": "python",
   "pygments_lexer": "ipython3",
   "version": "3.7.12"
  }
 },
 "nbformat": 4,
 "nbformat_minor": 4
}
