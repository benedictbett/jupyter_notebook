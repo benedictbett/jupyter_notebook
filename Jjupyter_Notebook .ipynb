{
 "cells": [
  {
   "cell_type": "markdown",
   "metadata": {},
   "source": [
    "# My Jupyter Notebook On IBM Watson Studio"
   ]
  },
  {
   "cell_type": "markdown",
   "metadata": {},
   "source": [
    "**By Benedict Bett** ,\n",
    "**Data Science Enthusiast**"
   ]
  },
  {
   "cell_type": "markdown",
   "metadata": {},
   "source": [
    "*I am interested in data science because it helps to uncover insights and patterns in data that can lead to better decision-making and solutions to real-world problems.*"
   ]
  },
  {
   "cell_type": "markdown",
   "metadata": {},
   "source": [
    "## The Following Code displays a Simple Calculator That Adds Two Numbers and Displays The Output"
   ]
  },
  {
   "cell_type": "code",
   "execution_count": 5,
   "metadata": {},
   "outputs": [
    {
     "name": "stdout",
     "output_type": "stream",
     "text": [
      "The result of addition is:  11\n"
     ]
    }
   ],
   "source": [
    "\n",
    "num1 = 6\n",
    "num2 = 5\n",
    "\n",
    "\n",
    "result = num1 + num2\n",
    "\n",
    "\n",
    "print(\"The result of addition is: \", result)\n"
   ]
  },
  {
   "cell_type": "markdown",
   "metadata": {},
   "source": [
    "### Facts About Data Science:\n",
    "1.Data Science is a multidisciplinary field that combines mathematics, statistics, computer science, and domain knowledge.\n",
    "\n",
    "2.Data Science is being used in almost every industry, from healthcare to finance, retail, and entertainment.\n",
    "\n",
    "3.The amount of data generated worldwide is increasing at an astonishing rate, and data science plays a crucial role in making sense of this data."
   ]
  }
 ],
 "metadata": {
  "kernelspec": {
   "display_name": "Python",
   "language": "python",
   "name": "conda-env-python-py"
  },
  "language_info": {
   "codemirror_mode": {
    "name": "ipython",
    "version": 3
   },
   "file_extension": ".py",
   "mimetype": "text/x-python",
   "name": "python",
   "nbconvert_exporter": "python",
   "pygments_lexer": "ipython3",
   "version": "3.7.12"
  }
 },
 "nbformat": 4,
 "nbformat_minor": 4
}
